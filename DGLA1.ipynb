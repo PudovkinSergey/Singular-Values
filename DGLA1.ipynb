{
 "cells": [
  {
   "cell_type": "markdown",
   "metadata": {},
   "source": [
    "Вычислить сингулярные числа матрицы А размера N, сравнить с точными.\n",
    "Вычислить базисы из сингулярных векторов (V,U)\n",
    "Произвести сингулярное разложение (V\"SIGMA\"U*)\n",
    "Прокоментировать точность результатов\n"
   ]
  },
  {
   "cell_type": "code",
   "execution_count": 1,
   "metadata": {},
   "outputs": [],
   "source": [
    "import math\n",
    "import numpy as np\n",
    "from numpy import ndarray\n",
    "import numpy.linalg as lalg\n",
    "from IPython.display import HTML, display\n",
    "import tabulate\n",
    "np.set_printoptions(precision=20,suppress=True)"
   ]
  },
  {
   "cell_type": "code",
   "execution_count": 35,
   "metadata": {},
   "outputs": [],
   "source": [
    "# Константы\n",
    "def program(d,b,N):\n",
    "    # Cоздаем и заполняем матрицу\n",
    "    A=np.zeros((N,N))\n",
    "\n",
    "    for i in range(0,N):\n",
    "        try:\n",
    "            A[i,i+1]=b\n",
    "        except IndexError:\n",
    "            pass\n",
    "        A[i,i]=d\n",
    "        try: \n",
    "            A[i+1,i]=b\n",
    "        except IndexError:\n",
    "            pass\n",
    "\n",
    "    # Выполняем сингулярное разложение\n",
    "    U,s,V=lalg.svd(A,full_matrices=1)    \n",
    "   \n",
    "    \n",
    "    # Проверяем ортогональность базиса\n",
    "    base=U.dot(V)\n",
    "    for i in range(0,len(base)):\n",
    "        base[i][i]=base[i][i]-1\n",
    "    base_dif_max=abs(max(base.min(), base.max(), key=abs))\n",
    "    \n",
    "    # Проверяем погрешность метода сингулярного разложения\n",
    "    S=np.zeros((len(s),len(s)))\n",
    "    for i in range(0,len(s)):\n",
    "        S[i][i]=s[i]\n",
    "    Ad=U.dot(S).dot(V)\n",
    "    Ad=Ad-A\n",
    "    sing_dif_max=abs(max(Ad.min(), Ad.max(), key=abs))\n",
    "    \n",
    "    # находим сингулярные числа через точные значения собственных значений\n",
    "    lambd=[]\n",
    "    for i in range(1,N+1):\n",
    "        lambd.append(abs(d-2*abs(b)*math.cos(math.pi*i/(N+1))))\n",
    "\n",
    "    # Сортируем сингулярные числа\n",
    "    s.sort()\n",
    "    lambd.sort()\n",
    "\n",
    "\n",
    "    # Находим разность между точным и приближенным значением\n",
    "\n",
    "    difference=[]\n",
    "    for i in range(0,len(s)):\n",
    "        difference.append(abs(s[i]-lambd[i]))\n",
    "    return [s,lambd,difference,base_dif_max,sing_dif_max]"
   ]
  },
  {
   "cell_type": "code",
   "execution_count": 42,
   "metadata": {},
   "outputs": [
    {
     "data": {
      "text/html": [
       "<table>\n",
       "<thead>\n",
       "<tr><th style=\"text-align: right;\">  №</th><th style=\"text-align: right;\">  Приближенное значение</th><th style=\"text-align: right;\">  Точное значение</th><th style=\"text-align: right;\">  Модуль разности</th></tr>\n",
       "</thead>\n",
       "<tbody>\n",
       "<tr><td style=\"text-align: right;\">  0</td><td style=\"text-align: right;\">      1.520253513192753</td><td style=\"text-align: right;\">1.520253513192751</td><td style=\"text-align: right;\">      1.33227e-15</td></tr>\n",
       "<tr><td style=\"text-align: right;\">  1</td><td style=\"text-align: right;\">      1.579373233584410</td><td style=\"text-align: right;\">1.579373233584410</td><td style=\"text-align: right;\">      6.66134e-16</td></tr>\n",
       "<tr><td style=\"text-align: right;\">  2</td><td style=\"text-align: right;\">      1.672569633027358</td><td style=\"text-align: right;\">1.672569633027357</td><td style=\"text-align: right;\">      2.22045e-16</td></tr>\n",
       "<tr><td style=\"text-align: right;\">  3</td><td style=\"text-align: right;\">      1.792292493499058</td><td style=\"text-align: right;\">1.792292493499057</td><td style=\"text-align: right;\">      8.88178e-16</td></tr>\n",
       "<tr><td style=\"text-align: right;\">  4</td><td style=\"text-align: right;\">      1.928842580863357</td><td style=\"text-align: right;\">1.928842580863357</td><td style=\"text-align: right;\">      6.66134e-16</td></tr>\n",
       "<tr><td style=\"text-align: right;\">  5</td><td style=\"text-align: right;\">      2.071157419136641</td><td style=\"text-align: right;\">2.071157419136643</td><td style=\"text-align: right;\">      1.77636e-15</td></tr>\n",
       "<tr><td style=\"text-align: right;\">  6</td><td style=\"text-align: right;\">      2.207707506500945</td><td style=\"text-align: right;\">2.207707506500943</td><td style=\"text-align: right;\">      1.77636e-15</td></tr>\n",
       "<tr><td style=\"text-align: right;\">  7</td><td style=\"text-align: right;\">      2.327430366972643</td><td style=\"text-align: right;\">2.327430366972643</td><td style=\"text-align: right;\">      0          </td></tr>\n",
       "<tr><td style=\"text-align: right;\">  8</td><td style=\"text-align: right;\">      2.420626766415592</td><td style=\"text-align: right;\">2.420626766415590</td><td style=\"text-align: right;\">      1.77636e-15</td></tr>\n",
       "<tr><td style=\"text-align: right;\">  9</td><td style=\"text-align: right;\">      2.479746486807249</td><td style=\"text-align: right;\">2.479746486807249</td><td style=\"text-align: right;\">      4.44089e-16</td></tr>\n",
       "</tbody>\n",
       "</table>"
      ],
      "text/plain": [
       "<IPython.core.display.HTML object>"
      ]
     },
     "metadata": {},
     "output_type": "display_data"
    },
    {
     "data": {
      "text/html": [
       "<table>\n",
       "<thead>\n",
       "<tr><th style=\"text-align: right;\">  №</th><th style=\"text-align: right;\">  Приближенное значение</th><th style=\"text-align: right;\">  Точное значение</th><th style=\"text-align: right;\">  Модуль разности</th></tr>\n",
       "</thead>\n",
       "<tbody>\n",
       "<tr><td style=\"text-align: right;\">  0</td><td style=\"text-align: right;\">      1.505584586887436</td><td style=\"text-align: right;\">1.505584586887436</td><td style=\"text-align: right;\">      2.22045e-16</td></tr>\n",
       "<tr><td style=\"text-align: right;\">  1</td><td style=\"text-align: right;\">      1.522213597106930</td><td style=\"text-align: right;\">1.522213597106930</td><td style=\"text-align: right;\">      4.44089e-16</td></tr>\n",
       "<tr><td style=\"text-align: right;\">  2</td><td style=\"text-align: right;\">      1.549515566048790</td><td style=\"text-align: right;\">1.549515566048790</td><td style=\"text-align: right;\">      4.44089e-16</td></tr>\n",
       "<tr><td style=\"text-align: right;\">  3</td><td style=\"text-align: right;\">      1.586880612842003</td><td style=\"text-align: right;\">1.586880612842003</td><td style=\"text-align: right;\">      0          </td></tr>\n",
       "<tr><td style=\"text-align: right;\">  4</td><td style=\"text-align: right;\">      1.633474064085086</td><td style=\"text-align: right;\">1.633474064085087</td><td style=\"text-align: right;\">      1.11022e-15</td></tr>\n",
       "<tr><td style=\"text-align: right;\">  5</td><td style=\"text-align: right;\">      1.688255099070632</td><td style=\"text-align: right;\">1.688255099070633</td><td style=\"text-align: right;\">      1.11022e-15</td></tr>\n",
       "<tr><td style=\"text-align: right;\">  6</td><td style=\"text-align: right;\">      1.750000000000000</td><td style=\"text-align: right;\">1.750000000000000</td><td style=\"text-align: right;\">      4.44089e-16</td></tr>\n",
       "<tr><td style=\"text-align: right;\">  7</td><td style=\"text-align: right;\">      1.817329487816802</td><td style=\"text-align: right;\">1.817329487816802</td><td style=\"text-align: right;\">      4.44089e-16</td></tr>\n",
       "<tr><td style=\"text-align: right;\">  8</td><td style=\"text-align: right;\">      1.888739533021843</td><td style=\"text-align: right;\">1.888739533021843</td><td style=\"text-align: right;\">      2.22045e-16</td></tr>\n",
       "<tr><td style=\"text-align: right;\">  9</td><td style=\"text-align: right;\">      1.962634953206788</td><td style=\"text-align: right;\">1.962634953206788</td><td style=\"text-align: right;\">      2.22045e-16</td></tr>\n",
       "<tr><td style=\"text-align: right;\"> 10</td><td style=\"text-align: right;\">      2.037365046793213</td><td style=\"text-align: right;\">2.037365046793212</td><td style=\"text-align: right;\">      1.33227e-15</td></tr>\n",
       "<tr><td style=\"text-align: right;\"> 11</td><td style=\"text-align: right;\">      2.111260466978159</td><td style=\"text-align: right;\">2.111260466978157</td><td style=\"text-align: right;\">      1.33227e-15</td></tr>\n",
       "<tr><td style=\"text-align: right;\"> 12</td><td style=\"text-align: right;\">      2.182670512183196</td><td style=\"text-align: right;\">2.182670512183198</td><td style=\"text-align: right;\">      1.33227e-15</td></tr>\n",
       "<tr><td style=\"text-align: right;\"> 13</td><td style=\"text-align: right;\">      2.249999999999999</td><td style=\"text-align: right;\">2.250000000000000</td><td style=\"text-align: right;\">      1.33227e-15</td></tr>\n",
       "<tr><td style=\"text-align: right;\"> 14</td><td style=\"text-align: right;\">      2.311744900929367</td><td style=\"text-align: right;\">2.311744900929367</td><td style=\"text-align: right;\">      0          </td></tr>\n",
       "<tr><td style=\"text-align: right;\"> 15</td><td style=\"text-align: right;\">      2.366525935914914</td><td style=\"text-align: right;\">2.366525935914913</td><td style=\"text-align: right;\">      8.88178e-16</td></tr>\n",
       "<tr><td style=\"text-align: right;\"> 16</td><td style=\"text-align: right;\">      2.413119387157997</td><td style=\"text-align: right;\">2.413119387157998</td><td style=\"text-align: right;\">      8.88178e-16</td></tr>\n",
       "<tr><td style=\"text-align: right;\"> 17</td><td style=\"text-align: right;\">      2.450484433951211</td><td style=\"text-align: right;\">2.450484433951210</td><td style=\"text-align: right;\">      1.33227e-15</td></tr>\n",
       "<tr><td style=\"text-align: right;\"> 18</td><td style=\"text-align: right;\">      2.477786402893070</td><td style=\"text-align: right;\">2.477786402893070</td><td style=\"text-align: right;\">      0          </td></tr>\n",
       "<tr><td style=\"text-align: right;\"> 19</td><td style=\"text-align: right;\">      2.494415413112566</td><td style=\"text-align: right;\">2.494415413112564</td><td style=\"text-align: right;\">      1.77636e-15</td></tr>\n",
       "</tbody>\n",
       "</table>"
      ],
      "text/plain": [
       "<IPython.core.display.HTML object>"
      ]
     },
     "metadata": {},
     "output_type": "display_data"
    },
    {
     "data": {
      "text/html": [
       "<table>\n",
       "<thead>\n",
       "<tr><th style=\"text-align: right;\">  №</th><th style=\"text-align: right;\">  Приближенное значение</th><th style=\"text-align: right;\">  Точное значение</th><th style=\"text-align: right;\">  Модуль разности</th></tr>\n",
       "</thead>\n",
       "<tbody>\n",
       "<tr><td style=\"text-align: right;\">  0</td><td style=\"text-align: right;\">      1.502565338304049</td><td style=\"text-align: right;\">1.502565338304052</td><td style=\"text-align: right;\">      3.10862e-15</td></tr>\n",
       "<tr><td style=\"text-align: right;\">  1</td><td style=\"text-align: right;\">      1.510235029373752</td><td style=\"text-align: right;\">1.510235029373753</td><td style=\"text-align: right;\">      4.44089e-16</td></tr>\n",
       "<tr><td style=\"text-align: right;\">  2</td><td style=\"text-align: right;\">      1.522930371799976</td><td style=\"text-align: right;\">1.522930371799976</td><td style=\"text-align: right;\">      2.22045e-16</td></tr>\n",
       "<tr><td style=\"text-align: right;\">  3</td><td style=\"text-align: right;\">      1.540521094189885</td><td style=\"text-align: right;\">1.540521094189885</td><td style=\"text-align: right;\">      2.22045e-16</td></tr>\n",
       "<tr><td style=\"text-align: right;\">  4</td><td style=\"text-align: right;\">      1.562826691927709</td><td style=\"text-align: right;\">1.562826691927709</td><td style=\"text-align: right;\">      4.44089e-16</td></tr>\n",
       "<tr><td style=\"text-align: right;\">  5</td><td style=\"text-align: right;\">      1.589618279396361</td><td style=\"text-align: right;\">1.589618279396362</td><td style=\"text-align: right;\">      6.66134e-16</td></tr>\n",
       "<tr><td style=\"text-align: right;\">  6</td><td style=\"text-align: right;\">      1.620620938653604</td><td style=\"text-align: right;\">1.620620938653605</td><td style=\"text-align: right;\">      4.44089e-16</td></tr>\n",
       "<tr><td style=\"text-align: right;\">  7</td><td style=\"text-align: right;\">      1.655516540462156</td><td style=\"text-align: right;\">1.655516540462157</td><td style=\"text-align: right;\">      1.11022e-15</td></tr>\n",
       "<tr><td style=\"text-align: right;\">  8</td><td style=\"text-align: right;\">      1.693947008726168</td><td style=\"text-align: right;\">1.693947008726169</td><td style=\"text-align: right;\">      2.22045e-16</td></tr>\n",
       "<tr><td style=\"text-align: right;\">  9</td><td style=\"text-align: right;\">      1.735517994836519</td><td style=\"text-align: right;\">1.735517994836519</td><td style=\"text-align: right;\">      2.22045e-16</td></tr>\n",
       "<tr><td style=\"text-align: right;\"> 10</td><td style=\"text-align: right;\">      1.779802924221184</td><td style=\"text-align: right;\">1.779802924221183</td><td style=\"text-align: right;\">      1.33227e-15</td></tr>\n",
       "<tr><td style=\"text-align: right;\"> 11</td><td style=\"text-align: right;\">      1.826347373577591</td><td style=\"text-align: right;\">1.826347373577590</td><td style=\"text-align: right;\">      8.88178e-16</td></tr>\n",
       "<tr><td style=\"text-align: right;\"> 12</td><td style=\"text-align: right;\">      1.874673733870640</td><td style=\"text-align: right;\">1.874673733870640</td><td style=\"text-align: right;\">      0          </td></tr>\n",
       "<tr><td style=\"text-align: right;\"> 13</td><td style=\"text-align: right;\">      1.924286111247712</td><td style=\"text-align: right;\">1.924286111247712</td><td style=\"text-align: right;\">      2.22045e-16</td></tr>\n",
       "<tr><td style=\"text-align: right;\"> 14</td><td style=\"text-align: right;\">      1.974675415580644</td><td style=\"text-align: right;\">1.974675415580643</td><td style=\"text-align: right;\">      2.22045e-16</td></tr>\n",
       "<tr><td style=\"text-align: right;\"> 15</td><td style=\"text-align: right;\">      2.025324584419356</td><td style=\"text-align: right;\">2.025324584419356</td><td style=\"text-align: right;\">      0          </td></tr>\n",
       "<tr><td style=\"text-align: right;\"> 16</td><td style=\"text-align: right;\">      2.075713888752287</td><td style=\"text-align: right;\">2.075713888752289</td><td style=\"text-align: right;\">      1.33227e-15</td></tr>\n",
       "<tr><td style=\"text-align: right;\"> 17</td><td style=\"text-align: right;\">      2.125326266129360</td><td style=\"text-align: right;\">2.125326266129360</td><td style=\"text-align: right;\">      4.44089e-16</td></tr>\n",
       "<tr><td style=\"text-align: right;\"> 18</td><td style=\"text-align: right;\">      2.173652626422409</td><td style=\"text-align: right;\">2.173652626422410</td><td style=\"text-align: right;\">      8.88178e-16</td></tr>\n",
       "<tr><td style=\"text-align: right;\"> 19</td><td style=\"text-align: right;\">      2.220197075778817</td><td style=\"text-align: right;\">2.220197075778817</td><td style=\"text-align: right;\">      0          </td></tr>\n",
       "<tr><td style=\"text-align: right;\"> 20</td><td style=\"text-align: right;\">      2.264482005163481</td><td style=\"text-align: right;\">2.264482005163481</td><td style=\"text-align: right;\">      4.44089e-16</td></tr>\n",
       "<tr><td style=\"text-align: right;\"> 21</td><td style=\"text-align: right;\">      2.306052991273830</td><td style=\"text-align: right;\">2.306052991273831</td><td style=\"text-align: right;\">      8.88178e-16</td></tr>\n",
       "<tr><td style=\"text-align: right;\"> 22</td><td style=\"text-align: right;\">      2.344483459537843</td><td style=\"text-align: right;\">2.344483459537843</td><td style=\"text-align: right;\">      4.44089e-16</td></tr>\n",
       "<tr><td style=\"text-align: right;\"> 23</td><td style=\"text-align: right;\">      2.379379061346395</td><td style=\"text-align: right;\">2.379379061346396</td><td style=\"text-align: right;\">      4.44089e-16</td></tr>\n",
       "<tr><td style=\"text-align: right;\"> 24</td><td style=\"text-align: right;\">      2.410381720603638</td><td style=\"text-align: right;\">2.410381720603638</td><td style=\"text-align: right;\">      4.44089e-16</td></tr>\n",
       "<tr><td style=\"text-align: right;\"> 25</td><td style=\"text-align: right;\">      2.437173308072290</td><td style=\"text-align: right;\">2.437173308072291</td><td style=\"text-align: right;\">      4.44089e-16</td></tr>\n",
       "<tr><td style=\"text-align: right;\"> 26</td><td style=\"text-align: right;\">      2.459478905810116</td><td style=\"text-align: right;\">2.459478905810115</td><td style=\"text-align: right;\">      4.44089e-16</td></tr>\n",
       "<tr><td style=\"text-align: right;\"> 27</td><td style=\"text-align: right;\">      2.477069628200023</td><td style=\"text-align: right;\">2.477069628200025</td><td style=\"text-align: right;\">      1.33227e-15</td></tr>\n",
       "<tr><td style=\"text-align: right;\"> 28</td><td style=\"text-align: right;\">      2.489764970626246</td><td style=\"text-align: right;\">2.489764970626247</td><td style=\"text-align: right;\">      8.88178e-16</td></tr>\n",
       "<tr><td style=\"text-align: right;\"> 29</td><td style=\"text-align: right;\">      2.497434661695947</td><td style=\"text-align: right;\">2.497434661695948</td><td style=\"text-align: right;\">      8.88178e-16</td></tr>\n",
       "</tbody>\n",
       "</table>"
      ],
      "text/plain": [
       "<IPython.core.display.HTML object>"
      ]
     },
     "metadata": {},
     "output_type": "display_data"
    },
    {
     "data": {
      "text/html": [
       "<table>\n",
       "<thead>\n",
       "<tr><th style=\"text-align: right;\">       N=10</th><th style=\"text-align: right;\">       N=20</th><th style=\"text-align: right;\">       N=30</th></tr>\n",
       "</thead>\n",
       "<tbody>\n",
       "<tr><td style=\"text-align: right;\">2.22045e-15</td><td style=\"text-align: right;\">3.10862e-15</td><td style=\"text-align: right;\">3.10862e-15</td></tr>\n",
       "</tbody>\n",
       "</table>"
      ],
      "text/plain": [
       "<IPython.core.display.HTML object>"
      ]
     },
     "metadata": {},
     "output_type": "display_data"
    }
   ],
   "source": [
    "# Вывод данных в виде таблицы для разных N\n",
    "\n",
    "sing_err=[]\n",
    "base_err=[]\n",
    "\n",
    "for i in [10,20,30]:  # Итерация по N\n",
    "    table = program(2,1/4,i)\n",
    "    sing_err.append(table[4])\n",
    "    base_err.append(table[3])\n",
    "    table=np.array(table[:3])\n",
    "    display(HTML(tabulate.tabulate(table.transpose(), headers=[\"№\",\"Приближенное значение\",\"Точное значение\",\"Модуль разности\"],tablefmt='html',showindex=\"always\",floatfmt=(\".15f\",\".15f\",\".15f\"))))\n",
    "\n",
    "# Погрешность метода сингулярного разложения\n",
    "display(HTML(tabulate.tabulate([sing_err], headers=[\"N=10\",\"N=20\",\"N=30\"],tablefmt='html')))\n",
    "\n",
    "display(HTML(tabulate.tabulate([base_err], headers=[\"N=10\",\"N=20\",\"N=30\"],tablefmt='html')))"
   ]
  },
  {
   "cell_type": "code",
   "execution_count": 37,
   "metadata": {},
   "outputs": [
    {
     "data": {
      "text/plain": [
       "[2.220446049250313e-15, 3.1086244689504383e-15, 3.1086244689504383e-15]"
      ]
     },
     "execution_count": 37,
     "metadata": {},
     "output_type": "execute_result"
    }
   ],
   "source": []
  },
  {
   "cell_type": "code",
   "execution_count": null,
   "metadata": {},
   "outputs": [],
   "source": []
  },
  {
   "cell_type": "code",
   "execution_count": null,
   "metadata": {},
   "outputs": [],
   "source": []
  },
  {
   "cell_type": "code",
   "execution_count": null,
   "metadata": {},
   "outputs": [],
   "source": []
  },
  {
   "cell_type": "code",
   "execution_count": null,
   "metadata": {},
   "outputs": [],
   "source": []
  }
 ],
 "metadata": {
  "kernelspec": {
   "display_name": "Python 3",
   "language": "python",
   "name": "python3"
  },
  "language_info": {
   "codemirror_mode": {
    "name": "ipython",
    "version": 3
   },
   "file_extension": ".py",
   "mimetype": "text/x-python",
   "name": "python",
   "nbconvert_exporter": "python",
   "pygments_lexer": "ipython3",
   "version": "3.6.5"
  }
 },
 "nbformat": 4,
 "nbformat_minor": 2
}
