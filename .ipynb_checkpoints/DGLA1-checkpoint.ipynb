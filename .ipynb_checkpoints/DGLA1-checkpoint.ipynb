{
 "cells": [
  {
   "cell_type": "markdown",
   "metadata": {},
   "source": [
    "Вычислить сингулярные числа матрицы А размера N, сравнить с точными.\n",
    "Вычислить базисы из сингулярных векторов (V,U)\n",
    "Произвести сингулярное разложение (V\"SIGMA\"U*)\n",
    "Прокоментировать точность результатов\n"
   ]
  },
  {
   "cell_type": "code",
   "execution_count": 81,
   "metadata": {},
   "outputs": [],
   "source": [
    "import math\n",
    "import numpy as np\n",
    "from numpy import ndarray\n",
    "import numpy.linalg as lalg\n",
    "from IPython.display import HTML, display\n",
    "import tabulate\n",
    "np.set_printoptions(precision=20,suppress=True)"
   ]
  },
  {
   "cell_type": "code",
   "execution_count": 87,
   "metadata": {},
   "outputs": [],
   "source": [
    "# Константы\n",
    "def program(d,b,N):\n",
    "    # Cоздаем и заполняем матрицу\n",
    "    A=np.zeros((N,N))\n",
    "\n",
    "    for i in range(0,N):\n",
    "        try:\n",
    "            A[i,i+1]=b\n",
    "        except IndexError:\n",
    "            pass\n",
    "        A[i,i]=d\n",
    "        try: \n",
    "            A[i+1,i]=b\n",
    "        except IndexError:\n",
    "            pass\n",
    "\n",
    "    # Выполняем сингулярное разложение\n",
    "    U,S,V=lalg.svd(A,full_matrices=1)    \n",
    "\n",
    "    # Проверяем ортогональность базиса\n",
    "    base=U.dot(V.transpose())\n",
    "    for i in range(0,len(base)):\n",
    "        base[i][i]=base[i][i]-1\n",
    "    base_dif_max=abs(max(base.min(), base.max(), key=abs))\n",
    "    \n",
    "    sing_dif_max=0\n",
    "    print(base_dif_max)\n",
    "    # находим сингулярные числа через точные значения собственных значений\n",
    "    lambd=[]\n",
    "    for i in range(1,N+1):\n",
    "        lambd.append(abs(d-2*abs(b)*math.cos(math.pi*i/(N+1))))\n",
    "\n",
    "    # Сортируем сингулярные числа\n",
    "    S.sort()\n",
    "    lambd.sort()\n",
    "\n",
    "\n",
    "    # Находим разность между точным и приближенным значением\n",
    "\n",
    "    difference=[]\n",
    "    for i in range(0,len(S)):\n",
    "        difference.append(abs(S[i]-lambd[i]))\n",
    "    return [S,lambd,difference,base_dif_max,sing_dif_max]"
   ]
  },
  {
   "cell_type": "code",
   "execution_count": 88,
   "metadata": {},
   "outputs": [
    {
     "name": "stdout",
     "output_type": "stream",
     "text": [
      "1.0000000000000033\n",
      "1.1851812982867986\n",
      "1.5754258599394966\n"
     ]
    }
   ],
   "source": [
    "# Вывод данных в виде таблицы для разных N\n",
    "\n",
    "sing_err=[]\n",
    "base_err=[]\n",
    "\n",
    "for i in [10,20,30]:  # Итерация по N\n",
    "    table = program(2,1/4,i)\n",
    "    sing_err.append(table[4])\n",
    "    base_err.append(table[3])\n",
    "    table=np.array(table[:3])\n",
    "    #display(HTML(tabulate.tabulate(table.transpose(), headers=[\"№\",\"Приближенное значение\",\"Точное значение\",\"Модуль разности\"],tablefmt='html',showindex=\"always\",floatfmt=(\".15f\",\".15f\",\".15f\"))))"
   ]
  },
  {
   "cell_type": "code",
   "execution_count": null,
   "metadata": {},
   "outputs": [],
   "source": []
  },
  {
   "cell_type": "code",
   "execution_count": null,
   "metadata": {},
   "outputs": [],
   "source": []
  },
  {
   "cell_type": "code",
   "execution_count": null,
   "metadata": {},
   "outputs": [],
   "source": []
  },
  {
   "cell_type": "code",
   "execution_count": null,
   "metadata": {},
   "outputs": [],
   "source": []
  },
  {
   "cell_type": "code",
   "execution_count": null,
   "metadata": {},
   "outputs": [],
   "source": []
  }
 ],
 "metadata": {
  "kernelspec": {
   "display_name": "Python 3",
   "language": "python",
   "name": "python3"
  },
  "language_info": {
   "codemirror_mode": {
    "name": "ipython",
    "version": 3
   },
   "file_extension": ".py",
   "mimetype": "text/x-python",
   "name": "python",
   "nbconvert_exporter": "python",
   "pygments_lexer": "ipython3",
   "version": "3.6.5"
  }
 },
 "nbformat": 4,
 "nbformat_minor": 2
}
