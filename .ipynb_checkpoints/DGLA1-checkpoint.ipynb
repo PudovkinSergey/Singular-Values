{
 "cells": [
  {
   "cell_type": "markdown",
   "metadata": {},
   "source": [
    "Вычислить сингулярные числа матрицы А размера N, сравнить с точными.\n",
    "Вычислить базисы из сингулярных векторов (V,U)\n",
    "Произвести сингулярное разложение (V\"SIGMA\"U*)\n",
    "Прокоментировать точность результатов\n"
   ]
  },
  {
   "cell_type": "code",
   "execution_count": 16,
   "metadata": {},
   "outputs": [],
   "source": [
    "import math\n",
    "import numpy as np\n",
    "from numpy import ndarray\n",
    "import numpy.linalg as lalg\n",
    "np.set_printoptions(precision=20,suppress=True)"
   ]
  },
  {
   "cell_type": "code",
   "execution_count": 29,
   "metadata": {},
   "outputs": [],
   "source": [
    "# Константы\n",
    "d=2 \n",
    "b=1/4\n",
    "N=10 #10 20 30\n",
    "\n",
    "\n",
    "# Cоздаем и заполняем матрицу\n",
    "A=np.zeros((N,N))\n",
    "\n",
    "for i in range(0,N):\n",
    "    try:\n",
    "        A[i,i+1]=b\n",
    "    except IndexError:\n",
    "        pass\n",
    "    A[i,i]=d\n",
    "    try: \n",
    "        A[i+1,i]=b\n",
    "    except IndexError:\n",
    "        pass\n",
    "        \n",
    "# Выполняем сингулярное разложение\n",
    "U,S,V=lalg.svd(A,full_matrices=1)    \n",
    "\n",
    "# находим сингулярные числа через точные значения собственных значений\n",
    "lambd=[]\n",
    "for i in range(1,N+1):\n",
    "    lambd.append(abs(d-2*abs(b)*math.cos(math.pi*i/(N+1))))\n",
    "\n",
    "# Сортируем сингулярные числа\n",
    "S.sort()\n",
    "lambd.sort()\n",
    "\n",
    "\n",
    "# Находим разность между точным и приближенным значением\n",
    "\n",
    "difference=[]\n",
    "for i in range(0,len(S)):\n",
    "    difference.append(abs(S[i]-lambd[i]))"
   ]
  },
  {
   "cell_type": "code",
   "execution_count": 30,
   "metadata": {},
   "outputs": [
    {
     "data": {
      "text/html": [
       "<table>\n",
       "<thead>\n",
       "<tr><th style=\"text-align: right;\">  №</th><th style=\"text-align: right;\">  Приближенное значение</th><th style=\"text-align: right;\">  Точное значение</th><th style=\"text-align: right;\">  Модуль разности</th></tr>\n",
       "</thead>\n",
       "<tbody>\n",
       "<tr><td style=\"text-align: right;\">  0</td><td style=\"text-align: right;\">      1.520253513192753</td><td style=\"text-align: right;\">1.520253513192751</td><td style=\"text-align: right;\">      1.33227e-15</td></tr>\n",
       "<tr><td style=\"text-align: right;\">  1</td><td style=\"text-align: right;\">      1.579373233584410</td><td style=\"text-align: right;\">1.579373233584410</td><td style=\"text-align: right;\">      6.66134e-16</td></tr>\n",
       "<tr><td style=\"text-align: right;\">  2</td><td style=\"text-align: right;\">      1.672569633027358</td><td style=\"text-align: right;\">1.672569633027357</td><td style=\"text-align: right;\">      2.22045e-16</td></tr>\n",
       "<tr><td style=\"text-align: right;\">  3</td><td style=\"text-align: right;\">      1.792292493499058</td><td style=\"text-align: right;\">1.792292493499057</td><td style=\"text-align: right;\">      8.88178e-16</td></tr>\n",
       "<tr><td style=\"text-align: right;\">  4</td><td style=\"text-align: right;\">      1.928842580863357</td><td style=\"text-align: right;\">1.928842580863357</td><td style=\"text-align: right;\">      6.66134e-16</td></tr>\n",
       "<tr><td style=\"text-align: right;\">  5</td><td style=\"text-align: right;\">      2.071157419136641</td><td style=\"text-align: right;\">2.071157419136643</td><td style=\"text-align: right;\">      1.77636e-15</td></tr>\n",
       "<tr><td style=\"text-align: right;\">  6</td><td style=\"text-align: right;\">      2.207707506500945</td><td style=\"text-align: right;\">2.207707506500943</td><td style=\"text-align: right;\">      1.77636e-15</td></tr>\n",
       "<tr><td style=\"text-align: right;\">  7</td><td style=\"text-align: right;\">      2.327430366972643</td><td style=\"text-align: right;\">2.327430366972643</td><td style=\"text-align: right;\">      0          </td></tr>\n",
       "<tr><td style=\"text-align: right;\">  8</td><td style=\"text-align: right;\">      2.420626766415592</td><td style=\"text-align: right;\">2.420626766415590</td><td style=\"text-align: right;\">      1.77636e-15</td></tr>\n",
       "<tr><td style=\"text-align: right;\">  9</td><td style=\"text-align: right;\">      2.479746486807249</td><td style=\"text-align: right;\">2.479746486807249</td><td style=\"text-align: right;\">      4.44089e-16</td></tr>\n",
       "</tbody>\n",
       "</table>"
      ],
      "text/plain": [
       "<IPython.core.display.HTML object>"
      ]
     },
     "metadata": {},
     "output_type": "display_data"
    }
   ],
   "source": [
    "# Вывод данных в виде таблицы\n",
    "from IPython.display import HTML, display\n",
    "import tabulate\n",
    "table = np.array([S,lambd,difference])\n",
    "display(HTML(tabulate.tabulate(table.transpose(), headers=[\"№\",\"Приближенное значение\",\"Точное значение\",\"Модуль разности\"],tablefmt='html',showindex=\"always\",floatfmt=(\".15f\",\".15f\",\".15f\"))))"
   ]
  }
 ],
 "metadata": {
  "kernelspec": {
   "display_name": "Python 3",
   "language": "python",
   "name": "python3"
  },
  "language_info": {
   "codemirror_mode": {
    "name": "ipython",
    "version": 3
   },
   "file_extension": ".py",
   "mimetype": "text/x-python",
   "name": "python",
   "nbconvert_exporter": "python",
   "pygments_lexer": "ipython3",
   "version": "3.6.5"
  }
 },
 "nbformat": 4,
 "nbformat_minor": 2
}
